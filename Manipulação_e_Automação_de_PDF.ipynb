{
  "nbformat": 4,
  "nbformat_minor": 0,
  "metadata": {
    "colab": {
      "provenance": [],
      "authorship_tag": "ABX9TyMLqj49GtXZmUiwNhSdrS3H",
      "include_colab_link": true
    },
    "kernelspec": {
      "name": "python3",
      "display_name": "Python 3"
    },
    "language_info": {
      "name": "python"
    }
  },
  "cells": [
    {
      "cell_type": "markdown",
      "metadata": {
        "id": "view-in-github",
        "colab_type": "text"
      },
      "source": [
        "<a href=\"https://colab.research.google.com/github/gomes-ti23/Projeto_Python/blob/main/Manipula%C3%A7%C3%A3o_e_Automa%C3%A7%C3%A3o_de_PDF.ipynb\" target=\"_parent\"><img src=\"https://colab.research.google.com/assets/colab-badge.svg\" alt=\"Open In Colab\"/></a>"
      ]
    },
    {
      "cell_type": "code",
      "execution_count": 1,
      "metadata": {
        "colab": {
          "base_uri": "https://localhost:8080/"
        },
        "id": "rpvo_Tcjvb_j",
        "outputId": "9ee74248-e58c-4b12-b152-77b518707b15"
      },
      "outputs": [
        {
          "output_type": "stream",
          "name": "stdout",
          "text": [
            "Mounted at /content/drive\n"
          ]
        }
      ],
      "source": [
        "from google.colab import drive\n",
        "drive.mount('/content/drive')"
      ]
    },
    {
      "cell_type": "code",
      "source": [
        "!pip install pdfplumber"
      ],
      "metadata": {
        "id": "N1Mxct2Evmr7"
      },
      "execution_count": null,
      "outputs": []
    },
    {
      "cell_type": "code",
      "source": [
        "import pdfplumber\n",
        "import os"
      ],
      "metadata": {
        "id": "vjaFgF9svsW6"
      },
      "execution_count": 3,
      "outputs": []
    },
    {
      "cell_type": "code",
      "source": [
        "relatorio = pdfplumber.open(\"/content/drive/MyDrive/Curso_Sigmoidal/relatórios/20200801.pdf\")"
      ],
      "metadata": {
        "id": "cYJMl4ugvvdM"
      },
      "execution_count": 25,
      "outputs": []
    },
    {
      "cell_type": "code",
      "source": [
        "#verificando o diretório que estou\n",
        "os.getcwd()"
      ],
      "metadata": {
        "colab": {
          "base_uri": "https://localhost:8080/",
          "height": 35
        },
        "id": "JhRTmsrm06fh",
        "outputId": "ac7c2da6-3009-4393-ff9a-7d55de5493b5"
      },
      "execution_count": 47,
      "outputs": [
        {
          "output_type": "execute_result",
          "data": {
            "text/plain": [
              "'/content/drive/MyDrive/Curso_Sigmoidal/relatórios'"
            ],
            "application/vnd.google.colaboratory.intrinsic+json": {
              "type": "string"
            }
          },
          "metadata": {},
          "execution_count": 47
        }
      ]
    },
    {
      "cell_type": "code",
      "source": [
        "#imprimindo lista com arquivos do diretório\n",
        "arquivo_pdf = os.listdir()\n",
        "print(arquivo_pdf)"
      ],
      "metadata": {
        "colab": {
          "base_uri": "https://localhost:8080/"
        },
        "id": "jxJ7nOA01o00",
        "outputId": "47997d3d-10fe-42e1-fab5-0f4a9db95ead"
      },
      "execution_count": 49,
      "outputs": [
        {
          "output_type": "stream",
          "name": "stdout",
          "text": [
            "['20200801.pdf', '20200805.pdf', '20200804.pdf', '20200802.pdf', '20200803.pdf']\n"
          ]
        }
      ]
    },
    {
      "cell_type": "code",
      "source": [
        "#abrir a primeira pagina do arquivo\n",
        "pagina = relatorio.pages[0]\n",
        "print(pagina)"
      ],
      "metadata": {
        "colab": {
          "base_uri": "https://localhost:8080/"
        },
        "id": "4HDvy6P9wJPa",
        "outputId": "6a239336-c1d0-4d21-a64d-48304472c2bd"
      },
      "execution_count": 50,
      "outputs": [
        {
          "output_type": "stream",
          "name": "stdout",
          "text": [
            "<Page:1>\n"
          ]
        }
      ]
    },
    {
      "cell_type": "code",
      "source": [
        "#extraindo texto\n",
        "texto = pagina.extract_text()\n",
        "texto"
      ],
      "metadata": {
        "colab": {
          "base_uri": "https://localhost:8080/",
          "height": 122
        },
        "id": "iLfOMn7AwYPc",
        "outputId": "5eaf592e-b2aa-4c4b-b3bd-c7c9c91ad1cf"
      },
      "execution_count": 29,
      "outputs": [
        {
          "output_type": "execute_result",
          "data": {
            "text/plain": [
              "'SIGMOIDAL\\nRelatório Diário\\nData: 01/08/2020\\nRECEITA: R$ 1297.00\\nDADOS ATUALIZADOS POR CARLOS MELO\\nVisitantes: 1367\\nA quantidade de visitantes diz respeito a visitantes únicos visitando qualquer\\npágina do domínio ou subdomínio sigmoidal.ai. Compreende, então, cursos,\\nblogs e landing pages.\\nInscritos: 33\\nÉ considerado aqui o número de leads gerados por meio de cadastro\\nvoluntário nos formulários do cabeçalho, rodapé ou materiais ricos (como\\neBook, infográficos, entre outros).\\nAssinantes: 6\\nClientes assinantes da Escola de Data Science, considerando-se o plano\\nrenovável de assinatura mensal.'"
            ],
            "application/vnd.google.colaboratory.intrinsic+json": {
              "type": "string"
            }
          },
          "metadata": {},
          "execution_count": 29
        }
      ]
    },
    {
      "cell_type": "code",
      "source": [
        "texto.split('\\n')"
      ],
      "metadata": {
        "colab": {
          "base_uri": "https://localhost:8080/"
        },
        "id": "DySFwKxQwgXW",
        "outputId": "ec5e4db8-1fb1-4870-ffdb-9e711de081de"
      },
      "execution_count": 30,
      "outputs": [
        {
          "output_type": "execute_result",
          "data": {
            "text/plain": [
              "['SIGMOIDAL',\n",
              " 'Relatório Diário',\n",
              " 'Data: 01/08/2020',\n",
              " 'RECEITA: R$ 1297.00',\n",
              " 'DADOS ATUALIZADOS POR CARLOS MELO',\n",
              " 'Visitantes: 1367',\n",
              " 'A quantidade de visitantes diz respeito a visitantes únicos visitando qualquer',\n",
              " 'página do domínio ou subdomínio sigmoidal.ai. Compreende, então, cursos,',\n",
              " 'blogs e landing pages.',\n",
              " 'Inscritos: 33',\n",
              " 'É considerado aqui o número de leads gerados por meio de cadastro',\n",
              " 'voluntário nos formulários do cabeçalho, rodapé ou materiais ricos (como',\n",
              " 'eBook, infográficos, entre outros).',\n",
              " 'Assinantes: 6',\n",
              " 'Clientes assinantes da Escola de Data Science, considerando-se o plano',\n",
              " 'renovável de assinatura mensal.']"
            ]
          },
          "metadata": {},
          "execution_count": 30
        }
      ]
    },
    {
      "cell_type": "code",
      "source": [
        "#Análisando vendas\n",
        "texto.split('\\n')[3]"
      ],
      "metadata": {
        "colab": {
          "base_uri": "https://localhost:8080/",
          "height": 35
        },
        "id": "4sJVxrxaw6xN",
        "outputId": "e0740cd2-84e7-4a14-b66f-7b5b6ba35751"
      },
      "execution_count": 24,
      "outputs": [
        {
          "output_type": "execute_result",
          "data": {
            "text/plain": [
              "'RECEITA: R$ 1297.00'"
            ],
            "application/vnd.google.colaboratory.intrinsic+json": {
              "type": "string"
            }
          },
          "metadata": {},
          "execution_count": 24
        }
      ]
    },
    {
      "cell_type": "code",
      "source": [
        "#retirando as tabulações\n",
        "texto.split('\\n')[3].replace(\" \", \"\")"
      ],
      "metadata": {
        "colab": {
          "base_uri": "https://localhost:8080/",
          "height": 35
        },
        "id": "XCOc69o5yuS-",
        "outputId": "a2bed302-7d65-40fd-da87-1f5b9c754b67"
      },
      "execution_count": 38,
      "outputs": [
        {
          "output_type": "execute_result",
          "data": {
            "text/plain": [
              "'RECEITA:R$1297.00'"
            ],
            "application/vnd.google.colaboratory.intrinsic+json": {
              "type": "string"
            }
          },
          "metadata": {},
          "execution_count": 38
        }
      ]
    },
    {
      "cell_type": "code",
      "source": [
        "#Verificando o que vem depois 'R$' usando split\n",
        "texto.split('\\n')[3].replace(\" \", \"\").split(\"R$\")[1]"
      ],
      "metadata": {
        "colab": {
          "base_uri": "https://localhost:8080/",
          "height": 35
        },
        "id": "O6IKDQtVzKmn",
        "outputId": "5ae6d42c-6eab-46c8-838c-de38d5a123e2"
      },
      "execution_count": 40,
      "outputs": [
        {
          "output_type": "execute_result",
          "data": {
            "text/plain": [
              "'1297.00'"
            ],
            "application/vnd.google.colaboratory.intrinsic+json": {
              "type": "string"
            }
          },
          "metadata": {},
          "execution_count": 40
        }
      ]
    },
    {
      "cell_type": "code",
      "source": [
        "#como esse valor ainda é uma string, vou transformar ele em float\n",
        "float(texto.split('\\n')[3].replace(\" \", \"\").split(\"R$\")[1])"
      ],
      "metadata": {
        "colab": {
          "base_uri": "https://localhost:8080/"
        },
        "id": "0lHhb8fmz7eN",
        "outputId": "329089f4-40d4-41a2-9a81-c90216d0e147"
      },
      "execution_count": 41,
      "outputs": [
        {
          "output_type": "execute_result",
          "data": {
            "text/plain": [
              "1297.0"
            ]
          },
          "metadata": {},
          "execution_count": 41
        }
      ]
    },
    {
      "cell_type": "markdown",
      "source": [
        "# **Vou agora automatiza o relatório para que some o total das receitas independente da quantidade de relatórios em PDF.**"
      ],
      "metadata": {
        "id": "AjM8QFOW0PB1"
      }
    },
    {
      "cell_type": "code",
      "source": [
        "#criando somador\n",
        "soma = 0\n",
        "\n",
        "# criando a função\n",
        "for arquivo in arquivo_pdf:\n",
        "  relatorio = pdfplumber.open(arquivo)\n",
        "  pagina = relatorio.pages[0]\n",
        "  texto = pagina.extract_text()\n",
        "  valor = (texto.split('\\n')[3].replace(\" \", \"\").split(\"R$\")[1])\n",
        "  valor = float(valor)\n",
        "  soma = soma + valor\n",
        "  print(arquivo, \"---->\", valor)"
      ],
      "metadata": {
        "colab": {
          "base_uri": "https://localhost:8080/"
        },
        "id": "dSyqBtJh0M-w",
        "outputId": "0d8c2b74-b35e-40c0-ccc6-3bdd771b595b"
      },
      "execution_count": 54,
      "outputs": [
        {
          "output_type": "stream",
          "name": "stdout",
          "text": [
            "20200801.pdf ----> 1297.0\n",
            "20200805.pdf ----> 154.0\n",
            "20200804.pdf ----> 2554.0\n",
            "20200802.pdf ----> 537.0\n",
            "20200803.pdf ----> 554.0\n"
          ]
        }
      ]
    },
    {
      "cell_type": "code",
      "source": [
        "#soma total das receitas\n",
        "print(f'A Receita dos últimos 5 dias : {soma}')"
      ],
      "metadata": {
        "colab": {
          "base_uri": "https://localhost:8080/"
        },
        "id": "4Re5NfHZ3dOk",
        "outputId": "5a0f066c-c2ef-4076-f81d-9b6ebffdce9e"
      },
      "execution_count": 55,
      "outputs": [
        {
          "output_type": "stream",
          "name": "stdout",
          "text": [
            "A Receita dos últimos 5 dias : 5096.0\n"
          ]
        }
      ]
    }
  ]
}